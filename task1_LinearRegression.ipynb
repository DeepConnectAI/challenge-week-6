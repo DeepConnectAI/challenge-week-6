{
  "nbformat": 4,
  "nbformat_minor": 0,
  "metadata": {
    "colab": {
      "name": "task1_LinearRegression.ipynb",
      "provenance": []
    },
    "kernelspec": {
      "name": "python3",
      "display_name": "Python 3"
    }
  },
  "cells": [
    {
      "cell_type": "code",
      "metadata": {
        "id": "mRl7KPgwjRHI",
        "colab_type": "code",
        "colab": {}
      },
      "source": [
        "#import the necessary libraries\n",
        "import pandas as pd\n",
        "import numpy as np\n",
        "import matplotlib.pyplot as plt\n",
        "\n",
        "# Sklearn processing\n",
        "from sklearn.preprocessing import MinMaxScaler\n",
        "from sklearn.model_selection import train_test_split\n",
        "from sklearn.model_selection import KFold\n",
        "from sklearn.model_selection import cross_val_score\n",
        "from sklearn.model_selection import cross_val_predict\n",
        "\n",
        "# Sklearn linear regression model\n",
        "from sklearn.linear_model import LinearRegression\n",
        "\n",
        "# Sklearn regression model evaluation functions\n",
        "from sklearn.metrics import mean_squared_error\n",
        "from sklearn.metrics import r2_score\n",
        "\n",
        "# Feature selection using Recursive Feature Elimimation\n",
        "from sklearn.feature_selection import RFE"
      ],
      "execution_count": null,
      "outputs": []
    },
    {
      "cell_type": "code",
      "metadata": {
        "id": "Vq1jiQz-kIpA",
        "colab_type": "code",
        "colab": {}
      },
      "source": [
        "#load the data and inspect the first 5 rows\n",
        "data = "
      ],
      "execution_count": null,
      "outputs": []
    },
    {
      "cell_type": "code",
      "metadata": {
        "id": "pw5T1NvekL65",
        "colab_type": "code",
        "colab": {}
      },
      "source": [
        "# print the data types of each feature name"
      ],
      "execution_count": null,
      "outputs": []
    },
    {
      "cell_type": "code",
      "metadata": {
        "id": "RE0sjCi4kREL",
        "colab_type": "code",
        "colab": {}
      },
      "source": [
        "# check for null values in each column"
      ],
      "execution_count": null,
      "outputs": []
    },
    {
      "cell_type": "code",
      "metadata": {
        "id": "jWJz8TAgketK",
        "colab_type": "code",
        "colab": {}
      },
      "source": [
        "# print out the unique values of the features ['season', 'year', 'weather', 'promotion_type']"
      ],
      "execution_count": null,
      "outputs": []
    },
    {
      "cell_type": "code",
      "metadata": {
        "id": "1nkDe68NkyZ2",
        "colab_type": "code",
        "colab": {}
      },
      "source": [
        "# print out the value counts (frequency of occurence) of the unique values in these features ['season', 'year', 'weather', 'promotion_type']"
      ],
      "execution_count": null,
      "outputs": []
    },
    {
      "cell_type": "code",
      "metadata": {
        "id": "yIsIIQWFmJRK",
        "colab_type": "code",
        "colab": {}
      },
      "source": [
        "# print the shape of data"
      ],
      "execution_count": null,
      "outputs": []
    },
    {
      "cell_type": "markdown",
      "metadata": {
        "id": "JyWAWbbFltNl",
        "colab_type": "text"
      },
      "source": [
        "<a href = \"https://machinelearningmastery.com/data-leakage-machine-learning/\"><button> Data Leakage Info : Click ME </button></a>\n",
        "\n"
      ]
    },
    {
      "cell_type": "code",
      "metadata": {
        "id": "1xXsOHMilNTz",
        "colab_type": "code",
        "colab": {}
      },
      "source": [
        "# Drop cnt and registered as they will cause data leakage.\n",
        "# Also drop the feature 'id' as it has no information to present.\n",
        "\n",
        "data = "
      ],
      "execution_count": null,
      "outputs": []
    },
    {
      "cell_type": "code",
      "metadata": {
        "id": "i4BXZ-_qmNYh",
        "colab_type": "code",
        "colab": {}
      },
      "source": [
        "# print the shape of data\n"
      ],
      "execution_count": null,
      "outputs": []
    },
    {
      "cell_type": "code",
      "metadata": {
        "id": "1G-eQ8ULmO3J",
        "colab_type": "code",
        "colab": {}
      },
      "source": [
        "# one hot encode the categorical columns.\n"
      ],
      "execution_count": null,
      "outputs": []
    },
    {
      "cell_type": "code",
      "metadata": {
        "id": "qcf6heimmZaQ",
        "colab_type": "code",
        "colab": {}
      },
      "source": [
        "# print the shape of data \n",
        "# notice the increase in the no. of features\n"
      ],
      "execution_count": null,
      "outputs": []
    },
    {
      "cell_type": "code",
      "metadata": {
        "id": "vZ2HK7RGmO63",
        "colab_type": "code",
        "colab": {}
      },
      "source": [
        "# Split the dataset into X and y\n",
        "# notice the target variable is 'casual'\n",
        "X = ?\n",
        "y = ?"
      ],
      "execution_count": null,
      "outputs": []
    },
    {
      "cell_type": "code",
      "metadata": {
        "id": "6blYZrz7mPBG",
        "colab_type": "code",
        "colab": {}
      },
      "source": [
        "# Apply scaling if our data is spread across wide differences of range values."
      ],
      "execution_count": null,
      "outputs": []
    },
    {
      "cell_type": "code",
      "metadata": {
        "id": "Ad4MfGe1mPDk",
        "colab_type": "code",
        "colab": {}
      },
      "source": [
        "# split the dataset into X_train, X_test, y_train, y_test\n",
        "# play around with test sizes.\n",
        "\n",
        "test_size = ?\n",
        "X_train, X_test, y_train, y_test = ?"
      ],
      "execution_count": null,
      "outputs": []
    },
    {
      "cell_type": "code",
      "metadata": {
        "id": "6czlxW2tnQqP",
        "colab_type": "code",
        "colab": {}
      },
      "source": [
        "# print the shapes\n",
        "print(X_train.shape)\n",
        "print(X_test.shape)\n",
        "print(y_train.shape)\n",
        "print(y_test.shape)"
      ],
      "execution_count": null,
      "outputs": []
    },
    {
      "cell_type": "code",
      "metadata": {
        "id": "w-lp9O74nUm7",
        "colab_type": "code",
        "colab": {}
      },
      "source": [
        "# build the Linear Regression model.\n",
        "\n",
        "model = ?\n",
        "\n",
        "# fit the model on the training data\n",
        "model.fit(?, ?)"
      ],
      "execution_count": null,
      "outputs": []
    },
    {
      "cell_type": "code",
      "metadata": {
        "id": "NmXHyTOTnvM7",
        "colab_type": "code",
        "colab": {}
      },
      "source": [
        "# custom score function independment of the model.\n",
        "from sklearn.metrics import r2_score\n",
        "\n",
        "def custom_score(model, X, y):\n",
        "  \"\"\"Get the model prediction scores using the provided input and target features\"\"\"\n",
        "   predictions = model.predict(?)\n",
        "   print(\"R2 score : \", r2_score(?, ?))\n"
      ],
      "execution_count": null,
      "outputs": []
    },
    {
      "cell_type": "code",
      "metadata": {
        "id": "Ga_f-66JoVri",
        "colab_type": "code",
        "colab": {}
      },
      "source": [
        "# print the score on training set\n",
        "\n",
        "print(\"On Training set : \", score(model, ?, ?))"
      ],
      "execution_count": null,
      "outputs": []
    },
    {
      "cell_type": "code",
      "metadata": {
        "id": "IKmlrtpDoilu",
        "colab_type": "code",
        "colab": {}
      },
      "source": [
        "# print the score on the test set\n",
        "\n",
        "print(\"On testing set : \", score(model, ?, ?))"
      ],
      "execution_count": null,
      "outputs": []
    },
    {
      "cell_type": "markdown",
      "metadata": {
        "id": "cYyTP91_pB-u",
        "colab_type": "text"
      },
      "source": [
        "Do not edit the below code. Observe the distribution of weights. \n",
        "Which feature has the maximum coefficient ? <br>\n",
        "Keep this figure as a base reference for visualizing the effects of l1-norm and l2-norm later in this notebook."
      ]
    },
    {
      "cell_type": "code",
      "metadata": {
        "id": "Ck8Vx1bWozcf",
        "colab_type": "code",
        "colab": {}
      },
      "source": [
        "# custom summary function to plot the coefficients / weightage of the features.\n",
        "def custom_summary(model, column_names):\n",
        "    '''Show a summary of the trained linear regression model'''\n",
        "\n",
        "    # Plot the coeffients as bars\n",
        "    fig = plt.figure(figsize=(8,len(column_names)/3))\n",
        "    fig.suptitle('Linear Regression Coefficients', fontsize=16)\n",
        "    rects = plt.barh(column_names, model.coef_,color=\"lightblue\")\n",
        "\n",
        "    # Annotate the bars with the coefficient values\n",
        "    for rect in rects:\n",
        "        width = round(rect.get_width(),4)\n",
        "        plt.gca().annotate('  {}  '.format(width),\n",
        "                    xy=(0, rect.get_y()),\n",
        "                    xytext=(0,2),  \n",
        "                    textcoords=\"offset points\",  \n",
        "                    ha='left' if width<0 else 'right', va='bottom')        \n",
        "    plt.show()"
      ],
      "execution_count": null,
      "outputs": []
    },
    {
      "cell_type": "code",
      "metadata": {
        "id": "QuyEBDrYotzb",
        "colab_type": "code",
        "colab": {}
      },
      "source": [
        "# coefficients plot\n",
        "# let's call the above custom function.\n",
        "\n",
        "custom_summary(model, X_train.columns)"
      ],
      "execution_count": null,
      "outputs": []
    },
    {
      "cell_type": "code",
      "metadata": {
        "id": "E77vWyd7plQ2",
        "colab_type": "code",
        "colab": {}
      },
      "source": [
        "# evaluate the model with k = 10 Fold Cross validation\n",
        "\n",
        "model = KFoldCV(X_train, y_train)\n",
        "\n",
        "# print the score on testing set.\n",
        "print('On test set : ', score(model, ?, ?))"
      ],
      "execution_count": null,
      "outputs": []
    },
    {
      "cell_type": "code",
      "metadata": {
        "id": "Zmgju8OCrHLv",
        "colab_type": "code",
        "colab": {}
      },
      "source": [
        "custom_summary(model, X_train.columns)"
      ],
      "execution_count": null,
      "outputs": []
    }
  ]
}