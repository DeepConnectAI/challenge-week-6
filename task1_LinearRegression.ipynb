{
  "nbformat": 4,
  "nbformat_minor": 0,
  "metadata": {
    "colab": {
      "name": "task1_LinearRegression.ipynb",
      "provenance": [],
      "collapsed_sections": []
    },
    "kernelspec": {
      "name": "python3",
      "display_name": "Python 3"
    }
  },
  "cells": [
    {
      "cell_type": "markdown",
      "metadata": {
        "id": "-kYuv5Noe1vY",
        "colab_type": "text"
      },
      "source": [
        "<a href = \"https://machinelearningmastery.com/data-leakage-machine-learning/\">Link for Data Leakage Article</a>"
      ]
    },
    {
      "cell_type": "code",
      "metadata": {
        "id": "mRl7KPgwjRHI",
        "colab_type": "code",
        "colab": {}
      },
      "source": [
        "#import the necessary libraries\n",
        "import pandas as pd\n",
        "import numpy as np\n",
        "import matplotlib.pyplot as plt\n",
        "\n",
        "# Sklearn processing\n",
        "from sklearn.preprocessing import MinMaxScaler\n",
        "from sklearn.model_selection import train_test_split\n",
        "from sklearn.model_selection import KFold\n",
        "from sklearn.model_selection import cross_val_score\n",
        "\n",
        "# Sklearn linear regression model\n",
        "from sklearn.linear_model import LinearRegression\n",
        "\n",
        "# Sklearn regression model evaluation functions\n",
        "from sklearn.metrics import r2_score\n",
        "\n",
        "# Perform feature selection using a variance threshold\n",
        "from sklearn.feature_selection import VarianceThreshold\n",
        "\n",
        "# Feature selection using Recursive Feature Elimimation\n",
        "from sklearn.feature_selection import RFE"
      ],
      "execution_count": null,
      "outputs": []
    },
    {
      "cell_type": "code",
      "metadata": {
        "id": "Vq1jiQz-kIpA",
        "colab_type": "code",
        "colab": {}
      },
      "source": [
        "#load the data and inspect the first 5 rows\n",
        "data = "
      ],
      "execution_count": null,
      "outputs": []
    },
    {
      "cell_type": "code",
      "metadata": {
        "id": "pw5T1NvekL65",
        "colab_type": "code",
        "colab": {}
      },
      "source": [
        "# print the data types of each feature name"
      ],
      "execution_count": null,
      "outputs": []
    },
    {
      "cell_type": "code",
      "metadata": {
        "id": "RE0sjCi4kREL",
        "colab_type": "code",
        "colab": {}
      },
      "source": [
        "# check for null values in each column"
      ],
      "execution_count": null,
      "outputs": []
    },
    {
      "cell_type": "code",
      "metadata": {
        "id": "jWJz8TAgketK",
        "colab_type": "code",
        "colab": {}
      },
      "source": [
        "# print out the unique values of the features ['season', 'year', 'weather', 'promotion_type']"
      ],
      "execution_count": null,
      "outputs": []
    },
    {
      "cell_type": "code",
      "metadata": {
        "id": "1nkDe68NkyZ2",
        "colab_type": "code",
        "colab": {}
      },
      "source": [
        "# print out the value counts (frequency of occurence) of the unique values in these features ['season', 'year', 'weather', 'promotion_type']"
      ],
      "execution_count": null,
      "outputs": []
    },
    {
      "cell_type": "code",
      "metadata": {
        "id": "yIsIIQWFmJRK",
        "colab_type": "code",
        "colab": {}
      },
      "source": [
        "# print the shape of data"
      ],
      "execution_count": null,
      "outputs": []
    },
    {
      "cell_type": "code",
      "metadata": {
        "id": "1xXsOHMilNTz",
        "colab_type": "code",
        "colab": {}
      },
      "source": [
        "# drop the feature 'id' as it has no information to present.\n",
        "\n",
        "data = "
      ],
      "execution_count": null,
      "outputs": []
    },
    {
      "cell_type": "code",
      "metadata": {
        "id": "i4BXZ-_qmNYh",
        "colab_type": "code",
        "colab": {}
      },
      "source": [
        "# print the shape of data\n"
      ],
      "execution_count": null,
      "outputs": []
    },
    {
      "cell_type": "code",
      "metadata": {
        "id": "1G-eQ8ULmO3J",
        "colab_type": "code",
        "colab": {}
      },
      "source": [
        "# one hot encode the categorical columns.\n"
      ],
      "execution_count": null,
      "outputs": []
    },
    {
      "cell_type": "code",
      "metadata": {
        "id": "qcf6heimmZaQ",
        "colab_type": "code",
        "colab": {}
      },
      "source": [
        "# print the shape of data \n",
        "# notice the increase in the no. of features\n"
      ],
      "execution_count": null,
      "outputs": []
    },
    {
      "cell_type": "markdown",
      "metadata": {
        "id": "vLOkfanFfWDK",
        "colab_type": "text"
      },
      "source": [
        "extras<br>\n",
        "notice cnt = registered + casual<br>\n",
        "to avoid data leakage remove the feature 'registered'"
      ]
    },
    {
      "cell_type": "code",
      "metadata": {
        "id": "vZ2HK7RGmO63",
        "colab_type": "code",
        "colab": {}
      },
      "source": [
        "# Split the dataset into X and y\n",
        "# notice the target variable is 'cnt'\n",
        "X = ?\n",
        "y = ?"
      ],
      "execution_count": null,
      "outputs": []
    },
    {
      "cell_type": "code",
      "metadata": {
        "id": "6blYZrz7mPBG",
        "colab_type": "code",
        "colab": {}
      },
      "source": [
        "# Apply scaling if our data is spread across wide differences of range values.\n"
      ],
      "execution_count": null,
      "outputs": []
    },
    {
      "cell_type": "code",
      "metadata": {
        "id": "Ad4MfGe1mPDk",
        "colab_type": "code",
        "colab": {}
      },
      "source": [
        "# split the dataset into X_train, X_test, y_train, y_test\n",
        "# play around with test sizes.\n",
        "\n",
        "test_size = ?\n",
        "X_train, X_test, y_train, y_test = ?"
      ],
      "execution_count": null,
      "outputs": []
    },
    {
      "cell_type": "code",
      "metadata": {
        "id": "6czlxW2tnQqP",
        "colab_type": "code",
        "colab": {}
      },
      "source": [
        "# print the shapes\n",
        "print(X_train.shape)\n",
        "print(X_test.shape)\n",
        "print(y_train.shape)\n",
        "print(y_test.shape)"
      ],
      "execution_count": null,
      "outputs": []
    },
    {
      "cell_type": "code",
      "metadata": {
        "id": "w-lp9O74nUm7",
        "colab_type": "code",
        "colab": {}
      },
      "source": [
        "# build the Linear Regression model.\n",
        "\n",
        "model = ?\n",
        "\n",
        "# fit the model on the training data\n",
        "model.fit(?, ?)"
      ],
      "execution_count": null,
      "outputs": []
    },
    {
      "cell_type": "code",
      "metadata": {
        "id": "NmXHyTOTnvM7",
        "colab_type": "code",
        "colab": {}
      },
      "source": [
        "# custom score function independment of the model.\n",
        "from sklearn.metrics import r2_score\n",
        "\n",
        "def custom_score(model, X, y):\n",
        "  \"\"\"Get the model prediction scores using the provided input and target features\"\"\"\n",
        "   predictions = model.predict(?)\n",
        "   return r2_score(?, ?)\n"
      ],
      "execution_count": null,
      "outputs": []
    },
    {
      "cell_type": "code",
      "metadata": {
        "id": "Ga_f-66JoVri",
        "colab_type": "code",
        "colab": {}
      },
      "source": [
        "# print the score on training set\n",
        "\n",
        "print(\"On Training set : \", custom_score(model, ?, ?))"
      ],
      "execution_count": null,
      "outputs": []
    },
    {
      "cell_type": "code",
      "metadata": {
        "id": "IKmlrtpDoilu",
        "colab_type": "code",
        "colab": {}
      },
      "source": [
        "# print the score on the test set\n",
        "\n",
        "print(\"On testing set : \", custom_score(model, ?, ?))"
      ],
      "execution_count": null,
      "outputs": []
    },
    {
      "cell_type": "markdown",
      "metadata": {
        "id": "cYyTP91_pB-u",
        "colab_type": "text"
      },
      "source": [
        "Do not edit the below code. Observe the distribution of weights. \n",
        "Which feature has the maximum coefficient ? <br>\n",
        "Keep this figure as a base reference for visualizing the effects of l1-norm and l2-norm later in this notebook."
      ]
    },
    {
      "cell_type": "code",
      "metadata": {
        "id": "Ck8Vx1bWozcf",
        "colab_type": "code",
        "colab": {}
      },
      "source": [
        "# custom summary function to plot the coefficients / weightage of the features.\n",
        "def custom_summary(model, column_names, title):\n",
        "    '''Show a summary of the trained linear regression model'''\n",
        "\n",
        "    # Plot the coeffients as bars\n",
        "    fig = plt.figure(figsize=(8,len(column_names)/3))\n",
        "    fig.suptitle(title, fontsize=16)\n",
        "    rects = plt.barh(column_names, model.coef_,color=\"lightblue\")\n",
        "\n",
        "    # Annotate the bars with the coefficient values\n",
        "    for rect in rects:\n",
        "        width = round(rect.get_width(),4)\n",
        "        plt.gca().annotate('  {}  '.format(width),\n",
        "                    xy=(0, rect.get_y()),\n",
        "                    xytext=(0,2),  \n",
        "                    textcoords=\"offset points\",  \n",
        "                    ha='left' if width<0 else 'right', va='bottom')        \n",
        "    plt.show()"
      ],
      "execution_count": null,
      "outputs": []
    },
    {
      "cell_type": "code",
      "metadata": {
        "id": "QuyEBDrYotzb",
        "colab_type": "code",
        "colab": {}
      },
      "source": [
        "# coefficients plot\n",
        "# let's call the above custom function.\n",
        "\n",
        "custom_summary(model, X_train.columns, \"Linear Regression coefficients.\")"
      ],
      "execution_count": null,
      "outputs": []
    },
    {
      "cell_type": "code",
      "metadata": {
        "id": "E77vWyd7plQ2",
        "colab_type": "code",
        "colab": {}
      },
      "source": [
        "# evaluate the model with k = 10 Fold Cross validation\n",
        "\n",
        "model = KFold(n_splits = ?, shuffle = True, random_state = 100)\n",
        "results = cross_val_score(?, ?, ?, scoring = 'r2', cv = folds)\n",
        "\n",
        "print(type(model).__name__)\n",
        "print(\"kFoldCV:\")\n",
        "print(\"Fold R2 scores:\", results)\n",
        "print(\"Mean R2 score:\", results.mean())\n",
        "print(\"Std R2 score:\", results.std())\n",
        "print(\"Generalizability on training set : \", results.mean(), \" +/- \", results.std())"
      ],
      "execution_count": null,
      "outputs": []
    },
    {
      "cell_type": "code",
      "metadata": {
        "id": "uzAg3gtfcv9z",
        "colab_type": "code",
        "colab": {}
      },
      "source": [
        "# print the score on testing set.\n",
        "print('On test set : ', score(model, ?, ?))"
      ],
      "execution_count": null,
      "outputs": []
    },
    {
      "cell_type": "markdown",
      "metadata": {
        "id": "xNVstf3MRWTS",
        "colab_type": "text"
      },
      "source": [
        "Feature Selection using Variance Thresholding"
      ]
    },
    {
      "cell_type": "code",
      "metadata": {
        "id": "3fWmra-LRSvk",
        "colab_type": "code",
        "colab": {}
      },
      "source": [
        "print(\"Original shape of X_train : \", X_train.shape)"
      ],
      "execution_count": null,
      "outputs": []
    },
    {
      "cell_type": "code",
      "metadata": {
        "id": "ZdfMwVybRl9o",
        "colab_type": "code",
        "colab": {}
      },
      "source": [
        "# check the variance of X\n",
        "\n",
        "X.var()"
      ],
      "execution_count": null,
      "outputs": []
    },
    {
      "cell_type": "markdown",
      "metadata": {
        "id": "kk36hVk_Rv6l",
        "colab_type": "text"
      },
      "source": [
        "Remove low variance features using Variance Threshold. \n",
        "\n",
        "Note : If the variance is less, it implies the values of that particular feature spans limited range of values."
      ]
    },
    {
      "cell_type": "code",
      "metadata": {
        "id": "3RkbbmcuRtkJ",
        "colab_type": "code",
        "colab": {}
      },
      "source": [
        "# play around with the threshold values\n",
        "\n",
        "sel = VarianceThreshold(threshold = (0.01))\n",
        "sel.fit(X_train)"
      ],
      "execution_count": null,
      "outputs": []
    },
    {
      "cell_type": "code",
      "metadata": {
        "id": "Bk525DOySWJp",
        "colab_type": "code",
        "colab": {}
      },
      "source": [
        "# do not edit.\n",
        "\n",
        "selected_features = list(X_train.columns[sel.get_support()])\n",
        "print(\"Selected features : \", selected_features)\n",
        "print(\"Removed features : \", list(X_train.columns[~sel.get_support()]))"
      ],
      "execution_count": null,
      "outputs": []
    },
    {
      "cell_type": "code",
      "metadata": {
        "id": "k1AQhlAhSXI5",
        "colab_type": "code",
        "colab": {}
      },
      "source": [
        "#transform / remove the low variance features\n",
        "\n",
        "X_train = sel.transform(X_train)\n",
        "X_test = sel.transform(X_test)"
      ],
      "execution_count": null,
      "outputs": []
    },
    {
      "cell_type": "markdown",
      "metadata": {
        "id": "UH8mZBs3S-i3",
        "colab_type": "text"
      },
      "source": [
        "## Lasso Regression : L1 - norm"
      ]
    },
    {
      "cell_type": "code",
      "metadata": {
        "id": "0XTVvk4gS98-",
        "colab_type": "code",
        "colab": {}
      },
      "source": [
        "from sklearn.linear_model import Lasso\n",
        "\n",
        "X_train, X_test, y_train, y_test = train_test_split(?, ?, test_size = ?, random_state = 100)\n",
        "\n",
        "# hyperparamater alpha : controls the degree of penaliation.\n",
        "# play around with alpha values.\n",
        "alpha = 1.0\n",
        "\n",
        "#create the model\n",
        "model = Lasso(alpha = alpha)\n",
        "\n",
        "#fit the model on training data\n",
        "model.fit(?, ?)\n",
        "\n",
        "#calculate the score on training data\n",
        "predictions = model.predict(?)\n",
        "print(\"On train set : \", custom_score(y_train, predictions))"
      ],
      "execution_count": null,
      "outputs": []
    },
    {
      "cell_type": "code",
      "metadata": {
        "id": "PD4NpuxYTWoV",
        "colab_type": "code",
        "colab": {}
      },
      "source": [
        "#evaluate the model on testing data\n",
        "predictions = model.predict(?)\n",
        "print(\"On test set : \", custom_score(y_test, predictions))"
      ],
      "execution_count": null,
      "outputs": []
    },
    {
      "cell_type": "code",
      "metadata": {
        "id": "bN7w1V5hT2Dp",
        "colab_type": "code",
        "colab": {}
      },
      "source": [
        "# visualize the coefficients.\n",
        "# compare the results with the plot obtained earlier.\n",
        "\n",
        "custom_summary(model, X_train.columns, \"Lasso Regression Coefficients.\")"
      ],
      "execution_count": null,
      "outputs": []
    },
    {
      "cell_type": "markdown",
      "metadata": {
        "id": "dsjziyZzUS8P",
        "colab_type": "text"
      },
      "source": [
        "We can see that Lasso regression has automatically done a lot of feature selection. Some columns might have zero coefficients. It has been effectively removed. <br> \n",
        "The model is much more interpretable than the baseline linear regression model.\n",
        "<br>\n",
        "Hence, Lasso regression has embedded Feature Selection."
      ]
    },
    {
      "cell_type": "markdown",
      "metadata": {
        "id": "O9IlW2V2UfD0",
        "colab_type": "text"
      },
      "source": [
        "# Ridge Regression : L2 - norm"
      ]
    },
    {
      "cell_type": "code",
      "metadata": {
        "id": "j6PRlLONUckx",
        "colab_type": "code",
        "colab": {}
      },
      "source": [
        "from sklearn.linear_model import Ridge\n",
        "\n",
        "# hyperparamater alpha : controls the degree of penaliation.\n",
        "# play around with alpha values.\n",
        "alpha = 1.0\n",
        "\n",
        "#create the model\n",
        "model = Ridge(alpha = ?)\n",
        "\n",
        "#fit the model on training data\n",
        "model.fit(?, ?)\n",
        "\n",
        "#calculate the score on training data\n",
        "predictions = model.predict(?)\n",
        "print(\"On train set : \", custom_score(y_train, predictions))\n"
      ],
      "execution_count": null,
      "outputs": []
    },
    {
      "cell_type": "code",
      "metadata": {
        "id": "jzukav_PVTG2",
        "colab_type": "code",
        "colab": {}
      },
      "source": [
        "#evaluate the model on testing data\n",
        "predictions = model.predict(?)\n",
        "print(\"On test set : \", custom_score(y_test, predictions))"
      ],
      "execution_count": null,
      "outputs": []
    },
    {
      "cell_type": "code",
      "metadata": {
        "id": "c39ZBnmvVYSA",
        "colab_type": "code",
        "colab": {}
      },
      "source": [
        "# visualize the coefficients.\n",
        "# compare the results with the plot obtained earlier.\n",
        "\n",
        "custom_summary(model, X_train.columns, \"Ridge Regression Coefficients.\")"
      ],
      "execution_count": null,
      "outputs": []
    },
    {
      "cell_type": "markdown",
      "metadata": {
        "id": "TqLF3812VefE",
        "colab_type": "text"
      },
      "source": [
        "Ridge regression doesn't drive smaller coefficients to 0 hence it doesn't possess internal feature selection."
      ]
    }
  ]
}